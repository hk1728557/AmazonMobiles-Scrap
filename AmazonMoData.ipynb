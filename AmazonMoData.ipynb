{
 "cells": [
  {
   "cell_type": "code",
   "execution_count": 53,
   "id": "bea8836a",
   "metadata": {},
   "outputs": [],
   "source": [
    "import requests\n",
    "from scrapy.selector import Selector\n",
    "import pandas as pd"
   ]
  },
  {
   "cell_type": "code",
   "execution_count": 54,
   "id": "b4ef7bf5",
   "metadata": {},
   "outputs": [],
   "source": [
    "url=\"https://www.amazon.in/s?i=electronics&bbn=1389401031&rh=n%3A1389401031%2Cp_89%3ASamsung&dc&qid=1667408510&rnid=3837712031&ref=sr_pg_1\""
   ]
  },
  {
   "cell_type": "code",
   "execution_count": 55,
   "id": "d606d8ce",
   "metadata": {},
   "outputs": [
    {
     "data": {
      "text/plain": [
       "<Response [200]>"
      ]
     },
     "execution_count": 55,
     "metadata": {},
     "output_type": "execute_result"
    }
   ],
   "source": [
    "res = requests.get(url)\n",
    "res"
   ]
  },
  {
   "cell_type": "code",
   "execution_count": 56,
   "id": "10e6c47b",
   "metadata": {},
   "outputs": [],
   "source": [
    "sel = Selector(res)"
   ]
  },
  {
   "cell_type": "code",
   "execution_count": 57,
   "id": "8d90b21d",
   "metadata": {},
   "outputs": [
    {
     "data": {
      "text/plain": [
       "['Samsung Galaxy M13 (Aqua Green, 4GB, 64GB Storage) | 6000mAh Battery | Upto 8GB RAM with RAM Plus',\n",
       " 'Samsung Galaxy M13 (Midnight Blue, 4GB, 64GB Storage) | 6000mAh Battery | Upto 8GB RAM with RAM Plus',\n",
       " 'Samsung Original 25W USB Travel Adapter for Cellular Phones, Black',\n",
       " 'Samsung Galaxy M32 Prime Edition (Light Blue, 6GB RAM, 128GB)',\n",
       " 'Samsung 25W USB Travel Adapter for Cellular Phones - White',\n",
       " 'Samsung Galaxy M13 (Aqua Green, 6GB, 128GB Storage) | 6000mAh Battery | Upto 12GB RAM with RAM Plus',\n",
       " 'Samsung Galaxy M32 Prime Edition (Black, 6GB RAM, 128GB)',\n",
       " 'Samsung EVO Plus 128GB microSDXC UHS-I U3 130MB/s Full HD & 4K UHD Memory Card with Adapter (MB-MC128KA), Blue',\n",
       " 'Samsung Galaxy M33 5G (Deep Ocean Blue, 8GB, 128GB Storage) | 6000mAh Battery | Upto 16GB RAM with RAM Plus | Travel Adapter to be Purchased Separately',\n",
       " 'Samsung Galaxy M13 (Stardust Brown, 4GB, 64GB Storage) | 6000mAh Battery | Upto 8GB RAM with RAM Plus',\n",
       " 'Samsung Galaxy M33 5G (Mystique Green, 6GB, 128GB Storage) | 6000mAh Battery | Upto 12GB RAM with RAM Plus | Travel Adapter to be Purchased Separately',\n",
       " 'Samsung Galaxy M13 (Midnight Blue, 6GB, 128GB Storage) | 6000mAh Battery | Upto 12GB RAM with RAM Plus',\n",
       " 'Samsung EVO Plus 64GB microSDXC UHS-I U1 130MB/s Full HD & 4K UHD Memory Card with Adapter (MB-MC64KA), Blue',\n",
       " 'Samsung Galaxy M33 5G (Deep Ocean Blue, 6GB, 128GB Storage) | 6000mAh Battery | Upto 12GB RAM with RAM Plus | Travel Adapter to be Purchased Separately',\n",
       " 'Samsung Galaxy M33 5G (Mystique Green, 8GB, 128GB Storage) | 6000mAh Battery | Upto 16GB RAM with RAM Plus | Travel Adapter to be Purchased Separately',\n",
       " 'Samsung Galaxy S20 FE 5G (Cloud Navy, 8GB RAM, 128GB Storage) with No Cost EMI & Additional Exchange Offers',\n",
       " 'Samsung Galaxy M32 Prime Edition (Black, 4GB RAM, 64GB)',\n",
       " 'Samsung Galaxy S20 FE 5G (Cloud Mint, 8GB RAM, 128GB Storage)',\n",
       " 'Samsung Galaxy Watch4 Bluetooth(4.4 cm, Black, Compatible with Android only)',\n",
       " 'Samsung Galaxy M33 5G (Emerald Brown, 6GB, 128GB Storage) | 6000mAh Battery | Upto 12GB RAM with RAM Plus | Travel Adapter to be Purchased Separately',\n",
       " 'Samsung Galaxy M32 Prime Edition (Light Blue, 4GB RAM, 64GB)',\n",
       " 'Samsung Galaxy Buds Live Bluetooth Truly Wireless in Ear Earbuds with Mic, Upto 21 Hours Playtime, Mystic Black',\n",
       " 'SAMSUNG Galaxy F13 (Waterfall Blue, 4GB RAM 64GB Storage)',\n",
       " 'Samsung Galaxy M13 5G (Aqua Green, 4GB, 64GB Storage) | 5000mAh Battery | Upto 8GB RAM with RAM Plus']"
      ]
     },
     "execution_count": 57,
     "metadata": {},
     "output_type": "execute_result"
    }
   ],
   "source": [
    "product = sel.xpath('//span[@class=\"a-size-base-plus a-color-base a-text-normal\"]/text()').extract()\n",
    "product"
   ]
  },
  {
   "cell_type": "code",
   "execution_count": 58,
   "id": "bf9637db",
   "metadata": {},
   "outputs": [
    {
     "data": {
      "text/plain": [
       "24"
      ]
     },
     "execution_count": 58,
     "metadata": {},
     "output_type": "execute_result"
    }
   ],
   "source": [
    "len(product)"
   ]
  },
  {
   "cell_type": "code",
   "execution_count": 59,
   "id": "ce3f12c6",
   "metadata": {},
   "outputs": [
    {
     "data": {
      "text/plain": [
       "['11,999',\n",
       " '11,999',\n",
       " '1,148',\n",
       " '15,499',\n",
       " '1,670',\n",
       " '13,999',\n",
       " '15,499',\n",
       " '1,149',\n",
       " '20,499',\n",
       " '11,999',\n",
       " '18,999',\n",
       " '13,999',\n",
       " '649',\n",
       " '18,999',\n",
       " '20,499',\n",
       " '34,990',\n",
       " '13,499',\n",
       " '34,990',\n",
       " '10,960',\n",
       " '18,999',\n",
       " '13,499',\n",
       " '5,290',\n",
       " '11,499',\n",
       " '13,999']"
      ]
     },
     "execution_count": 59,
     "metadata": {},
     "output_type": "execute_result"
    }
   ],
   "source": [
    "prices=sel.xpath('//span[@class=\"a-price-whole\"]/text()').extract()\n",
    "prices"
   ]
  },
  {
   "cell_type": "code",
   "execution_count": 60,
   "id": "42c74e0d",
   "metadata": {},
   "outputs": [
    {
     "data": {
      "text/plain": [
       "24"
      ]
     },
     "execution_count": 60,
     "metadata": {},
     "output_type": "execute_result"
    }
   ],
   "source": [
    "len(prices)"
   ]
  },
  {
   "cell_type": "code",
   "execution_count": 61,
   "id": "c57960eb",
   "metadata": {},
   "outputs": [
    {
     "data": {
      "text/plain": [
       "['https://m.media-amazon.com/images/I/81-fFXQdPTL._AC_UL320_.jpg',\n",
       " 'https://m.media-amazon.com/images/I/812YsUxpyfL._AC_UL320_.jpg',\n",
       " 'https://m.media-amazon.com/images/I/21x1gw1geuL._AC_UL320_.jpg',\n",
       " 'https://m.media-amazon.com/images/I/81OC0ojxH6L._AC_UL320_.jpg',\n",
       " 'https://m.media-amazon.com/images/I/21uXmiH98wL._AC_UL320_.jpg',\n",
       " 'https://m.media-amazon.com/images/I/81-fFXQdPTL._AC_UL320_.jpg',\n",
       " 'https://m.media-amazon.com/images/I/81Jov18YvpL._AC_UL320_.jpg',\n",
       " 'https://m.media-amazon.com/images/I/61fkOHNmzpL._AC_UL320_.jpg',\n",
       " 'https://m.media-amazon.com/images/I/81xvGbBFNhL._AC_UL320_.jpg',\n",
       " 'https://m.media-amazon.com/images/I/81Prc5i7hML._AC_UL320_.jpg',\n",
       " 'https://m.media-amazon.com/images/I/81I3w4J6yjL._AC_UL320_.jpg',\n",
       " 'https://m.media-amazon.com/images/I/812YsUxpyfL._AC_UL320_.jpg',\n",
       " 'https://m.media-amazon.com/images/I/61rnCkrurxL._AC_UL320_.jpg',\n",
       " 'https://m.media-amazon.com/images/I/81xvGbBFNhL._AC_UL320_.jpg',\n",
       " 'https://m.media-amazon.com/images/I/81I3w4J6yjL._AC_UL320_.jpg',\n",
       " 'https://m.media-amazon.com/images/I/81vDZyJQ-4L._AC_UL320_.jpg',\n",
       " 'https://m.media-amazon.com/images/I/81Jov18YvpL._AC_UL320_.jpg',\n",
       " 'https://m.media-amazon.com/images/I/812yohjGZ2L._AC_UL320_.jpg',\n",
       " 'https://m.media-amazon.com/images/I/61Nhi7ovjkL._AC_UL320_.jpg',\n",
       " 'https://m.media-amazon.com/images/I/81lnKynSaqL._AC_UL320_.jpg',\n",
       " 'https://m.media-amazon.com/images/I/81OC0ojxH6L._AC_UL320_.jpg',\n",
       " 'https://m.media-amazon.com/images/I/61G5JoU9tTL._AC_UL320_.jpg',\n",
       " 'https://m.media-amazon.com/images/I/81ryhJEBf1L._AC_UL320_.jpg',\n",
       " 'https://m.media-amazon.com/images/I/81AQybT5k6L._AC_UL320_.jpg']"
      ]
     },
     "execution_count": 61,
     "metadata": {},
     "output_type": "execute_result"
    }
   ],
   "source": [
    "image_link= sel.xpath('//img[@class=\"s-image\"]/@src').extract()\n",
    "image_link"
   ]
  },
  {
   "cell_type": "code",
   "execution_count": 62,
   "id": "24395750",
   "metadata": {},
   "outputs": [
    {
     "data": {
      "text/plain": [
       "24"
      ]
     },
     "execution_count": 62,
     "metadata": {},
     "output_type": "execute_result"
    }
   ],
   "source": [
    "len(image_link)"
   ]
  },
  {
   "cell_type": "code",
   "execution_count": 63,
   "id": "de4a9c99",
   "metadata": {},
   "outputs": [
    {
     "data": {
      "text/plain": [
       "3"
      ]
     },
     "execution_count": 63,
     "metadata": {},
     "output_type": "execute_result"
    }
   ],
   "source": [
    "items ={\n",
    "    'products_Name' : product,\n",
    "    'Prices' : prices,\n",
    "    'Image_Links':image_link\n",
    "     }\n",
    "\n",
    "\n",
    "len(items)"
   ]
  },
  {
   "cell_type": "code",
   "execution_count": 64,
   "id": "e8149fc1",
   "metadata": {},
   "outputs": [
    {
     "data": {
      "text/plain": [
       "{'products_Name': ['Samsung Galaxy M13 (Aqua Green, 4GB, 64GB Storage) | 6000mAh Battery | Upto 8GB RAM with RAM Plus',\n",
       "  'Samsung Galaxy M13 (Midnight Blue, 4GB, 64GB Storage) | 6000mAh Battery | Upto 8GB RAM with RAM Plus',\n",
       "  'Samsung Original 25W USB Travel Adapter for Cellular Phones, Black',\n",
       "  'Samsung Galaxy M32 Prime Edition (Light Blue, 6GB RAM, 128GB)',\n",
       "  'Samsung 25W USB Travel Adapter for Cellular Phones - White',\n",
       "  'Samsung Galaxy M13 (Aqua Green, 6GB, 128GB Storage) | 6000mAh Battery | Upto 12GB RAM with RAM Plus',\n",
       "  'Samsung Galaxy M32 Prime Edition (Black, 6GB RAM, 128GB)',\n",
       "  'Samsung EVO Plus 128GB microSDXC UHS-I U3 130MB/s Full HD & 4K UHD Memory Card with Adapter (MB-MC128KA), Blue',\n",
       "  'Samsung Galaxy M33 5G (Deep Ocean Blue, 8GB, 128GB Storage) | 6000mAh Battery | Upto 16GB RAM with RAM Plus | Travel Adapter to be Purchased Separately',\n",
       "  'Samsung Galaxy M13 (Stardust Brown, 4GB, 64GB Storage) | 6000mAh Battery | Upto 8GB RAM with RAM Plus',\n",
       "  'Samsung Galaxy M33 5G (Mystique Green, 6GB, 128GB Storage) | 6000mAh Battery | Upto 12GB RAM with RAM Plus | Travel Adapter to be Purchased Separately',\n",
       "  'Samsung Galaxy M13 (Midnight Blue, 6GB, 128GB Storage) | 6000mAh Battery | Upto 12GB RAM with RAM Plus',\n",
       "  'Samsung EVO Plus 64GB microSDXC UHS-I U1 130MB/s Full HD & 4K UHD Memory Card with Adapter (MB-MC64KA), Blue',\n",
       "  'Samsung Galaxy M33 5G (Deep Ocean Blue, 6GB, 128GB Storage) | 6000mAh Battery | Upto 12GB RAM with RAM Plus | Travel Adapter to be Purchased Separately',\n",
       "  'Samsung Galaxy M33 5G (Mystique Green, 8GB, 128GB Storage) | 6000mAh Battery | Upto 16GB RAM with RAM Plus | Travel Adapter to be Purchased Separately',\n",
       "  'Samsung Galaxy S20 FE 5G (Cloud Navy, 8GB RAM, 128GB Storage) with No Cost EMI & Additional Exchange Offers',\n",
       "  'Samsung Galaxy M32 Prime Edition (Black, 4GB RAM, 64GB)',\n",
       "  'Samsung Galaxy S20 FE 5G (Cloud Mint, 8GB RAM, 128GB Storage)',\n",
       "  'Samsung Galaxy Watch4 Bluetooth(4.4 cm, Black, Compatible with Android only)',\n",
       "  'Samsung Galaxy M33 5G (Emerald Brown, 6GB, 128GB Storage) | 6000mAh Battery | Upto 12GB RAM with RAM Plus | Travel Adapter to be Purchased Separately',\n",
       "  'Samsung Galaxy M32 Prime Edition (Light Blue, 4GB RAM, 64GB)',\n",
       "  'Samsung Galaxy Buds Live Bluetooth Truly Wireless in Ear Earbuds with Mic, Upto 21 Hours Playtime, Mystic Black',\n",
       "  'SAMSUNG Galaxy F13 (Waterfall Blue, 4GB RAM 64GB Storage)',\n",
       "  'Samsung Galaxy M13 5G (Aqua Green, 4GB, 64GB Storage) | 5000mAh Battery | Upto 8GB RAM with RAM Plus'],\n",
       " 'Prices': ['11,999',\n",
       "  '11,999',\n",
       "  '1,148',\n",
       "  '15,499',\n",
       "  '1,670',\n",
       "  '13,999',\n",
       "  '15,499',\n",
       "  '1,149',\n",
       "  '20,499',\n",
       "  '11,999',\n",
       "  '18,999',\n",
       "  '13,999',\n",
       "  '649',\n",
       "  '18,999',\n",
       "  '20,499',\n",
       "  '34,990',\n",
       "  '13,499',\n",
       "  '34,990',\n",
       "  '10,960',\n",
       "  '18,999',\n",
       "  '13,499',\n",
       "  '5,290',\n",
       "  '11,499',\n",
       "  '13,999'],\n",
       " 'Image_Links': ['https://m.media-amazon.com/images/I/81-fFXQdPTL._AC_UL320_.jpg',\n",
       "  'https://m.media-amazon.com/images/I/812YsUxpyfL._AC_UL320_.jpg',\n",
       "  'https://m.media-amazon.com/images/I/21x1gw1geuL._AC_UL320_.jpg',\n",
       "  'https://m.media-amazon.com/images/I/81OC0ojxH6L._AC_UL320_.jpg',\n",
       "  'https://m.media-amazon.com/images/I/21uXmiH98wL._AC_UL320_.jpg',\n",
       "  'https://m.media-amazon.com/images/I/81-fFXQdPTL._AC_UL320_.jpg',\n",
       "  'https://m.media-amazon.com/images/I/81Jov18YvpL._AC_UL320_.jpg',\n",
       "  'https://m.media-amazon.com/images/I/61fkOHNmzpL._AC_UL320_.jpg',\n",
       "  'https://m.media-amazon.com/images/I/81xvGbBFNhL._AC_UL320_.jpg',\n",
       "  'https://m.media-amazon.com/images/I/81Prc5i7hML._AC_UL320_.jpg',\n",
       "  'https://m.media-amazon.com/images/I/81I3w4J6yjL._AC_UL320_.jpg',\n",
       "  'https://m.media-amazon.com/images/I/812YsUxpyfL._AC_UL320_.jpg',\n",
       "  'https://m.media-amazon.com/images/I/61rnCkrurxL._AC_UL320_.jpg',\n",
       "  'https://m.media-amazon.com/images/I/81xvGbBFNhL._AC_UL320_.jpg',\n",
       "  'https://m.media-amazon.com/images/I/81I3w4J6yjL._AC_UL320_.jpg',\n",
       "  'https://m.media-amazon.com/images/I/81vDZyJQ-4L._AC_UL320_.jpg',\n",
       "  'https://m.media-amazon.com/images/I/81Jov18YvpL._AC_UL320_.jpg',\n",
       "  'https://m.media-amazon.com/images/I/812yohjGZ2L._AC_UL320_.jpg',\n",
       "  'https://m.media-amazon.com/images/I/61Nhi7ovjkL._AC_UL320_.jpg',\n",
       "  'https://m.media-amazon.com/images/I/81lnKynSaqL._AC_UL320_.jpg',\n",
       "  'https://m.media-amazon.com/images/I/81OC0ojxH6L._AC_UL320_.jpg',\n",
       "  'https://m.media-amazon.com/images/I/61G5JoU9tTL._AC_UL320_.jpg',\n",
       "  'https://m.media-amazon.com/images/I/81ryhJEBf1L._AC_UL320_.jpg',\n",
       "  'https://m.media-amazon.com/images/I/81AQybT5k6L._AC_UL320_.jpg']}"
      ]
     },
     "execution_count": 64,
     "metadata": {},
     "output_type": "execute_result"
    }
   ],
   "source": [
    "items"
   ]
  },
  {
   "cell_type": "code",
   "execution_count": 65,
   "id": "535ba90d",
   "metadata": {},
   "outputs": [
    {
     "data": {
      "text/html": [
       "<div>\n",
       "<style scoped>\n",
       "    .dataframe tbody tr th:only-of-type {\n",
       "        vertical-align: middle;\n",
       "    }\n",
       "\n",
       "    .dataframe tbody tr th {\n",
       "        vertical-align: top;\n",
       "    }\n",
       "\n",
       "    .dataframe thead th {\n",
       "        text-align: right;\n",
       "    }\n",
       "</style>\n",
       "<table border=\"1\" class=\"dataframe\">\n",
       "  <thead>\n",
       "    <tr style=\"text-align: right;\">\n",
       "      <th></th>\n",
       "      <th>products_Name</th>\n",
       "      <th>Prices</th>\n",
       "      <th>Image_Links</th>\n",
       "    </tr>\n",
       "  </thead>\n",
       "  <tbody>\n",
       "    <tr>\n",
       "      <th>0</th>\n",
       "      <td>Samsung Galaxy M13 (Aqua Green, 4GB, 64GB Stor...</td>\n",
       "      <td>11,999</td>\n",
       "      <td>https://m.media-amazon.com/images/I/81-fFXQdPT...</td>\n",
       "    </tr>\n",
       "    <tr>\n",
       "      <th>1</th>\n",
       "      <td>Samsung Galaxy M13 (Midnight Blue, 4GB, 64GB S...</td>\n",
       "      <td>11,999</td>\n",
       "      <td>https://m.media-amazon.com/images/I/812YsUxpyf...</td>\n",
       "    </tr>\n",
       "    <tr>\n",
       "      <th>2</th>\n",
       "      <td>Samsung Original 25W USB Travel Adapter for Ce...</td>\n",
       "      <td>1,148</td>\n",
       "      <td>https://m.media-amazon.com/images/I/21x1gw1geu...</td>\n",
       "    </tr>\n",
       "    <tr>\n",
       "      <th>3</th>\n",
       "      <td>Samsung Galaxy M32 Prime Edition (Light Blue, ...</td>\n",
       "      <td>15,499</td>\n",
       "      <td>https://m.media-amazon.com/images/I/81OC0ojxH6...</td>\n",
       "    </tr>\n",
       "    <tr>\n",
       "      <th>4</th>\n",
       "      <td>Samsung 25W USB Travel Adapter for Cellular Ph...</td>\n",
       "      <td>1,670</td>\n",
       "      <td>https://m.media-amazon.com/images/I/21uXmiH98w...</td>\n",
       "    </tr>\n",
       "    <tr>\n",
       "      <th>5</th>\n",
       "      <td>Samsung Galaxy M13 (Aqua Green, 6GB, 128GB Sto...</td>\n",
       "      <td>13,999</td>\n",
       "      <td>https://m.media-amazon.com/images/I/81-fFXQdPT...</td>\n",
       "    </tr>\n",
       "    <tr>\n",
       "      <th>6</th>\n",
       "      <td>Samsung Galaxy M32 Prime Edition (Black, 6GB R...</td>\n",
       "      <td>15,499</td>\n",
       "      <td>https://m.media-amazon.com/images/I/81Jov18Yvp...</td>\n",
       "    </tr>\n",
       "    <tr>\n",
       "      <th>7</th>\n",
       "      <td>Samsung EVO Plus 128GB microSDXC UHS-I U3 130M...</td>\n",
       "      <td>1,149</td>\n",
       "      <td>https://m.media-amazon.com/images/I/61fkOHNmzp...</td>\n",
       "    </tr>\n",
       "    <tr>\n",
       "      <th>8</th>\n",
       "      <td>Samsung Galaxy M33 5G (Deep Ocean Blue, 8GB, 1...</td>\n",
       "      <td>20,499</td>\n",
       "      <td>https://m.media-amazon.com/images/I/81xvGbBFNh...</td>\n",
       "    </tr>\n",
       "    <tr>\n",
       "      <th>9</th>\n",
       "      <td>Samsung Galaxy M13 (Stardust Brown, 4GB, 64GB ...</td>\n",
       "      <td>11,999</td>\n",
       "      <td>https://m.media-amazon.com/images/I/81Prc5i7hM...</td>\n",
       "    </tr>\n",
       "    <tr>\n",
       "      <th>10</th>\n",
       "      <td>Samsung Galaxy M33 5G (Mystique Green, 6GB, 12...</td>\n",
       "      <td>18,999</td>\n",
       "      <td>https://m.media-amazon.com/images/I/81I3w4J6yj...</td>\n",
       "    </tr>\n",
       "    <tr>\n",
       "      <th>11</th>\n",
       "      <td>Samsung Galaxy M13 (Midnight Blue, 6GB, 128GB ...</td>\n",
       "      <td>13,999</td>\n",
       "      <td>https://m.media-amazon.com/images/I/812YsUxpyf...</td>\n",
       "    </tr>\n",
       "    <tr>\n",
       "      <th>12</th>\n",
       "      <td>Samsung EVO Plus 64GB microSDXC UHS-I U1 130MB...</td>\n",
       "      <td>649</td>\n",
       "      <td>https://m.media-amazon.com/images/I/61rnCkrurx...</td>\n",
       "    </tr>\n",
       "    <tr>\n",
       "      <th>13</th>\n",
       "      <td>Samsung Galaxy M33 5G (Deep Ocean Blue, 6GB, 1...</td>\n",
       "      <td>18,999</td>\n",
       "      <td>https://m.media-amazon.com/images/I/81xvGbBFNh...</td>\n",
       "    </tr>\n",
       "    <tr>\n",
       "      <th>14</th>\n",
       "      <td>Samsung Galaxy M33 5G (Mystique Green, 8GB, 12...</td>\n",
       "      <td>20,499</td>\n",
       "      <td>https://m.media-amazon.com/images/I/81I3w4J6yj...</td>\n",
       "    </tr>\n",
       "    <tr>\n",
       "      <th>15</th>\n",
       "      <td>Samsung Galaxy S20 FE 5G (Cloud Navy, 8GB RAM,...</td>\n",
       "      <td>34,990</td>\n",
       "      <td>https://m.media-amazon.com/images/I/81vDZyJQ-4...</td>\n",
       "    </tr>\n",
       "    <tr>\n",
       "      <th>16</th>\n",
       "      <td>Samsung Galaxy M32 Prime Edition (Black, 4GB R...</td>\n",
       "      <td>13,499</td>\n",
       "      <td>https://m.media-amazon.com/images/I/81Jov18Yvp...</td>\n",
       "    </tr>\n",
       "    <tr>\n",
       "      <th>17</th>\n",
       "      <td>Samsung Galaxy S20 FE 5G (Cloud Mint, 8GB RAM,...</td>\n",
       "      <td>34,990</td>\n",
       "      <td>https://m.media-amazon.com/images/I/812yohjGZ2...</td>\n",
       "    </tr>\n",
       "    <tr>\n",
       "      <th>18</th>\n",
       "      <td>Samsung Galaxy Watch4 Bluetooth(4.4 cm, Black,...</td>\n",
       "      <td>10,960</td>\n",
       "      <td>https://m.media-amazon.com/images/I/61Nhi7ovjk...</td>\n",
       "    </tr>\n",
       "    <tr>\n",
       "      <th>19</th>\n",
       "      <td>Samsung Galaxy M33 5G (Emerald Brown, 6GB, 128...</td>\n",
       "      <td>18,999</td>\n",
       "      <td>https://m.media-amazon.com/images/I/81lnKynSaq...</td>\n",
       "    </tr>\n",
       "    <tr>\n",
       "      <th>20</th>\n",
       "      <td>Samsung Galaxy M32 Prime Edition (Light Blue, ...</td>\n",
       "      <td>13,499</td>\n",
       "      <td>https://m.media-amazon.com/images/I/81OC0ojxH6...</td>\n",
       "    </tr>\n",
       "    <tr>\n",
       "      <th>21</th>\n",
       "      <td>Samsung Galaxy Buds Live Bluetooth Truly Wirel...</td>\n",
       "      <td>5,290</td>\n",
       "      <td>https://m.media-amazon.com/images/I/61G5JoU9tT...</td>\n",
       "    </tr>\n",
       "    <tr>\n",
       "      <th>22</th>\n",
       "      <td>SAMSUNG Galaxy F13 (Waterfall Blue, 4GB RAM 64...</td>\n",
       "      <td>11,499</td>\n",
       "      <td>https://m.media-amazon.com/images/I/81ryhJEBf1...</td>\n",
       "    </tr>\n",
       "    <tr>\n",
       "      <th>23</th>\n",
       "      <td>Samsung Galaxy M13 5G (Aqua Green, 4GB, 64GB S...</td>\n",
       "      <td>13,999</td>\n",
       "      <td>https://m.media-amazon.com/images/I/81AQybT5k6...</td>\n",
       "    </tr>\n",
       "  </tbody>\n",
       "</table>\n",
       "</div>"
      ],
      "text/plain": [
       "                                        products_Name  Prices  \\\n",
       "0   Samsung Galaxy M13 (Aqua Green, 4GB, 64GB Stor...  11,999   \n",
       "1   Samsung Galaxy M13 (Midnight Blue, 4GB, 64GB S...  11,999   \n",
       "2   Samsung Original 25W USB Travel Adapter for Ce...   1,148   \n",
       "3   Samsung Galaxy M32 Prime Edition (Light Blue, ...  15,499   \n",
       "4   Samsung 25W USB Travel Adapter for Cellular Ph...   1,670   \n",
       "5   Samsung Galaxy M13 (Aqua Green, 6GB, 128GB Sto...  13,999   \n",
       "6   Samsung Galaxy M32 Prime Edition (Black, 6GB R...  15,499   \n",
       "7   Samsung EVO Plus 128GB microSDXC UHS-I U3 130M...   1,149   \n",
       "8   Samsung Galaxy M33 5G (Deep Ocean Blue, 8GB, 1...  20,499   \n",
       "9   Samsung Galaxy M13 (Stardust Brown, 4GB, 64GB ...  11,999   \n",
       "10  Samsung Galaxy M33 5G (Mystique Green, 6GB, 12...  18,999   \n",
       "11  Samsung Galaxy M13 (Midnight Blue, 6GB, 128GB ...  13,999   \n",
       "12  Samsung EVO Plus 64GB microSDXC UHS-I U1 130MB...     649   \n",
       "13  Samsung Galaxy M33 5G (Deep Ocean Blue, 6GB, 1...  18,999   \n",
       "14  Samsung Galaxy M33 5G (Mystique Green, 8GB, 12...  20,499   \n",
       "15  Samsung Galaxy S20 FE 5G (Cloud Navy, 8GB RAM,...  34,990   \n",
       "16  Samsung Galaxy M32 Prime Edition (Black, 4GB R...  13,499   \n",
       "17  Samsung Galaxy S20 FE 5G (Cloud Mint, 8GB RAM,...  34,990   \n",
       "18  Samsung Galaxy Watch4 Bluetooth(4.4 cm, Black,...  10,960   \n",
       "19  Samsung Galaxy M33 5G (Emerald Brown, 6GB, 128...  18,999   \n",
       "20  Samsung Galaxy M32 Prime Edition (Light Blue, ...  13,499   \n",
       "21  Samsung Galaxy Buds Live Bluetooth Truly Wirel...   5,290   \n",
       "22  SAMSUNG Galaxy F13 (Waterfall Blue, 4GB RAM 64...  11,499   \n",
       "23  Samsung Galaxy M13 5G (Aqua Green, 4GB, 64GB S...  13,999   \n",
       "\n",
       "                                          Image_Links  \n",
       "0   https://m.media-amazon.com/images/I/81-fFXQdPT...  \n",
       "1   https://m.media-amazon.com/images/I/812YsUxpyf...  \n",
       "2   https://m.media-amazon.com/images/I/21x1gw1geu...  \n",
       "3   https://m.media-amazon.com/images/I/81OC0ojxH6...  \n",
       "4   https://m.media-amazon.com/images/I/21uXmiH98w...  \n",
       "5   https://m.media-amazon.com/images/I/81-fFXQdPT...  \n",
       "6   https://m.media-amazon.com/images/I/81Jov18Yvp...  \n",
       "7   https://m.media-amazon.com/images/I/61fkOHNmzp...  \n",
       "8   https://m.media-amazon.com/images/I/81xvGbBFNh...  \n",
       "9   https://m.media-amazon.com/images/I/81Prc5i7hM...  \n",
       "10  https://m.media-amazon.com/images/I/81I3w4J6yj...  \n",
       "11  https://m.media-amazon.com/images/I/812YsUxpyf...  \n",
       "12  https://m.media-amazon.com/images/I/61rnCkrurx...  \n",
       "13  https://m.media-amazon.com/images/I/81xvGbBFNh...  \n",
       "14  https://m.media-amazon.com/images/I/81I3w4J6yj...  \n",
       "15  https://m.media-amazon.com/images/I/81vDZyJQ-4...  \n",
       "16  https://m.media-amazon.com/images/I/81Jov18Yvp...  \n",
       "17  https://m.media-amazon.com/images/I/812yohjGZ2...  \n",
       "18  https://m.media-amazon.com/images/I/61Nhi7ovjk...  \n",
       "19  https://m.media-amazon.com/images/I/81lnKynSaq...  \n",
       "20  https://m.media-amazon.com/images/I/81OC0ojxH6...  \n",
       "21  https://m.media-amazon.com/images/I/61G5JoU9tT...  \n",
       "22  https://m.media-amazon.com/images/I/81ryhJEBf1...  \n",
       "23  https://m.media-amazon.com/images/I/81AQybT5k6...  "
      ]
     },
     "execution_count": 65,
     "metadata": {},
     "output_type": "execute_result"
    }
   ],
   "source": [
    "df = pd.DataFrame(items)\n",
    "df \n"
   ]
  },
  {
   "cell_type": "code",
   "execution_count": 66,
   "id": "4da12f56",
   "metadata": {},
   "outputs": [],
   "source": [
    "# df.to_csv('AmazonMo_data.csv')"
   ]
  },
  {
   "cell_type": "code",
   "execution_count": 67,
   "id": "a2713eb8",
   "metadata": {},
   "outputs": [],
   "source": [
    "from pymongo import MongoClient\n",
    "client = MongoClient()"
   ]
  },
  {
   "cell_type": "code",
   "execution_count": 68,
   "id": "d6966b89",
   "metadata": {},
   "outputs": [],
   "source": [
    "client = MongoClient('localhost',27017)"
   ]
  },
  {
   "cell_type": "code",
   "execution_count": 69,
   "id": "288ff292",
   "metadata": {},
   "outputs": [
    {
     "data": {
      "text/plain": [
       "Database(MongoClient(host=['localhost:27017'], document_class=dict, tz_aware=False, connect=True), 'AmozonData')"
      ]
     },
     "execution_count": 69,
     "metadata": {},
     "output_type": "execute_result"
    }
   ],
   "source": [
    "db =client.AmozonData\n",
    "client.AmozonData"
   ]
  },
  {
   "cell_type": "code",
   "execution_count": 70,
   "id": "d9755849",
   "metadata": {},
   "outputs": [
    {
     "data": {
      "text/plain": [
       "<pymongo.results.InsertOneResult at 0x261ad515700>"
      ]
     },
     "execution_count": 70,
     "metadata": {},
     "output_type": "execute_result"
    }
   ],
   "source": [
    "\n",
    "db.Products.insert_one(items)"
   ]
  }
 ],
 "metadata": {
  "kernelspec": {
   "display_name": "Python 3 (ipykernel)",
   "language": "python",
   "name": "python3"
  },
  "language_info": {
   "codemirror_mode": {
    "name": "ipython",
    "version": 3
   },
   "file_extension": ".py",
   "mimetype": "text/x-python",
   "name": "python",
   "nbconvert_exporter": "python",
   "pygments_lexer": "ipython3",
   "version": "3.9.12"
  },
  "vscode": {
   "interpreter": {
    "hash": "81794d4967e6c3204c66dcd87b604927b115b27c00565d3d43f05ba2f3a2cb0d"
   }
  }
 },
 "nbformat": 4,
 "nbformat_minor": 5
}
